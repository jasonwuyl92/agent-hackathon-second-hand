{
 "cells": [
  {
   "cell_type": "code",
   "execution_count": null,
   "metadata": {},
   "outputs": [],
   "source": [
    "!pip install multion -q"
   ]
  },
  {
   "cell_type": "code",
   "execution_count": null,
   "metadata": {},
   "outputs": [],
   "source": [
    "import multion\n",
    "\n",
    "multion.login()"
   ]
  },
  {
   "cell_type": "code",
   "execution_count": null,
   "metadata": {},
   "outputs": [],
   "source": [
    "# Now you can make API calls like this:\n",
    "response = multion.new_session({\"input\": f\"Weather Today\",\"url\": \"https://www.google.com\"})\n",
    "print(response)\n",
    "tabId = response['tabId']"
   ]
  },
  {
   "cell_type": "code",
   "execution_count": null,
   "metadata": {},
   "outputs": [],
   "source": [
    "response = multion.update_session(tabId, {\"input\": f\"Weather Today\",\"url\": \"https://www.google.com\"})\n",
    "response"
   ]
  },
  {
   "cell_type": "code",
   "execution_count": null,
   "metadata": {},
   "outputs": [],
   "source": [
    "# LANGCHAIN EXAMPLE\n",
    "from langchain import LLMMathChain, OpenAI, SerpAPIWrapper, SQLDatabase, SQLDatabaseChain\n",
    "from langchain.agents import initialize_agent, Tool\n",
    "from langchain.agents import AgentType\n",
    "from langchain.chat_models import ChatOpenAI\n",
    "import openai\n",
    "\n",
    "\n",
    "import os\n",
    "\n",
    "os.environ[\"LANGCHAIN_TRACING\"] = \"true\"\n",
    "os.environ['OPENAI_API_KEY'] = \"<open_api_key>\"\n",
    "\n",
    "\n",
    "from langchain.tools import StructuredTool\n",
    "TabId = None\n",
    "\n",
    "def create_session(action: str, url: str) -> str:\n",
    "    \"\"\"Always the first step to run any activities that can be done using browser.\n",
    "    The function parameters 'action' and 'url' both are compulsary.\n",
    "    'action' is the action that you need to perform in the given url.if there is no 'action'set it as open.\n",
    "    'url' is the base url of a site.\"\"\"\n",
    "    global TabId\n",
    "    response = multion.new_session({\"input\": action,\"url\": url})\n",
    "    response=response['response']['data']\n",
    "    TabId = response['tabId']\n",
    "    print(response)\n",
    "    return  response['message']\n",
    "\n",
    "def update_session(action:str,url:str) -> str:\n",
    "    \"\"\"Updates the existing browser session created using create_session with given action and url, used consequently to handle browser activitites after creating one session of browser.\n",
    "    The function parameters 'action' and 'url' both are compulsary.\n",
    "    'action' is the action that you need to perform in the given url.if there is no 'action'set it as open.\n",
    "    'url' is the base url of a site.\"\"\"\n",
    "    global TabId\n",
    "    response = multion.update_session(TabId, {\"input\": action,\"url\": url})\n",
    "    response=response['response']['data']\n",
    "    return  response['message']\n",
    "\n",
    "tool1 = StructuredTool.from_function(create_session)\n",
    "tool2= StructuredTool.from_function(update_session)\n",
    "\n",
    "\n",
    "llm = OpenAI(temperature=0)\n",
    "\n",
    "# Structured tools are compatible with the STRUCTURED_CHAT_ZERO_SHOT_REACT_DESCRIPTION agent type.\n",
    "agent_executor = initialize_agent(\n",
    "    [tool1,tool2],\n",
    "    llm,\n",
    "    agent=AgentType.STRUCTURED_CHAT_ZERO_SHOT_REACT_DESCRIPTION,\n",
    "    verbose=True,\n",
    ")\n"
   ]
  },
  {
   "cell_type": "code",
   "execution_count": null,
   "metadata": {},
   "outputs": [],
   "source": [
    "agent_executor.run(f\"list and what their names are: https://www.notion.so/multion/Can-it-read-this-doc-9dbe753a121e473a8797828dda902b10?pvs=4\")"
   ]
  },
  {
   "cell_type": "code",
   "execution_count": null,
   "metadata": {},
   "outputs": [],
   "source": [
    "multion.refresh_token()"
   ]
  }
 ],
 "metadata": {
  "kernelspec": {
   "display_name": "venv",
   "language": "python",
   "name": "python3"
  },
  "language_info": {
   "codemirror_mode": {
    "name": "ipython",
    "version": 3
   },
   "file_extension": ".py",
   "mimetype": "text/x-python",
   "name": "python",
   "nbconvert_exporter": "python",
   "pygments_lexer": "ipython3",
   "version": "3.10.9"
  },
  "orig_nbformat": 4
 },
 "nbformat": 4,
 "nbformat_minor": 2
}
